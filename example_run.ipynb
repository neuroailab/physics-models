{
 "cells": [
  {
   "cell_type": "code",
   "execution_count": null,
   "id": "331106b1",
   "metadata": {},
   "outputs": [],
   "source": [
    "import os\n",
    "import glob\n",
    "import socket\n",
    "import getpass\n",
    "import yaml\n",
    "from pathos.multiprocessing import ProcessingPool as Pool\n",
    "import argparse\n",
    "from importlib import import_module\n",
    "from operator import attrgetter\n",
    "\n",
    "from hyperopt import hp, fmin, tpe, Trials\n",
    "from hyperopt.mongoexp import MongoTrials\n",
    "\n",
    "from physopt.objective.utils import PRETRAINING_PHASE_NAME, EXTRACTION_PHASE_NAME, READOUT_PHASE_NAME\n",
    "from physopt.data_space import build_data_spaces\n",
    "from physopt.utils.grid_search import suggest\n",
    "from physopt.config import get_cfg_defaults, get_cfg_debug\n",
    "\n",
    "from physopt.opt import resolve_config_file, resolve_output_dir, check_cfg,\\\n",
    "get_cfg_from_args, setup_environment_vars, MissingEnvironmentVariable"
   ]
  },
  {
   "cell_type": "markdown",
   "id": "cfeff63d",
   "metadata": {},
   "source": [
    "**setup the environment variables -- for configs and results path**"
   ]
  },
  {
   "cell_type": "code",
   "execution_count": null,
   "id": "d8c7c9f1",
   "metadata": {},
   "outputs": [],
   "source": [
    "NO_PARAM_SPACE = hp.choice('dummy', [0])\n",
    "CONFIG_ENV_VAR = 'PHYSOPT_CONFIG_DIR'\n",
    "OUTPUT_ENV_VAR = 'PHYSOPT_OUTPUT_DIR'\n",
    "setup_environment_vars()"
   ]
  },
  {
   "cell_type": "markdown",
   "id": "72fe6394",
   "metadata": {},
   "source": [
    "**Load the config file -- using example.yaml here**"
   ]
  },
  {
   "cell_type": "code",
   "execution_count": null,
   "id": "a2a0136c",
   "metadata": {},
   "outputs": [],
   "source": [
    "def arg_parse():\n",
    "    parser = argparse.ArgumentParser(description='Large-scale physics prediction')\n",
    "    parser.add_argument('-C', '--config', type=str, help='path to physopt configuration file')\n",
    "    parser.add_argument('-D', '--debug', action='store_true', help='debug mode')\n",
    "    parser.add_argument('-O', '--output', type=str, help='Output directory for physopt artifacts')\n",
    "    return parser.parse_args('')"
   ]
  },
  {
   "cell_type": "code",
   "execution_count": null,
   "id": "a7d1f4dc",
   "metadata": {},
   "outputs": [],
   "source": [
    "args = arg_parse()\n",
    "args.config = './configs/example.yaml'\n",
    "cfg = get_cfg_from_args(args)"
   ]
  },
  {
   "cell_type": "markdown",
   "id": "d3efbb5b",
   "metadata": {},
   "source": [
    "**Setup data loaders**"
   ]
  },
  {
   "cell_type": "code",
   "execution_count": null,
   "id": "2dff5abb",
   "metadata": {},
   "outputs": [],
   "source": [
    "data_spaces = build_data_spaces(cfg.DATA_SPACE.MODULE, cfg.DATA_SPACE.FUNC, cfg.DATA_SPACE.SEEDS, cfg.DATA_SPACE.KWARGS)\n",
    "\n",
    "#set pretraining loader and readout loader\n",
    "data_space = data_spaces[0]\n",
    "seed, pretraining_space, readout_space = data_space['seed'], data_space[PRETRAINING_PHASE_NAME], data_space[READOUT_PHASE_NAME][0]"
   ]
  },
  {
   "cell_type": "markdown",
   "id": "3a790313",
   "metadata": {},
   "source": [
    "**Pretraining the forward predictor** "
   ]
  },
  {
   "cell_type": "code",
   "execution_count": null,
   "id": "173f529f",
   "metadata": {
    "scrolled": true
   },
   "outputs": [],
   "source": [
    "args = [seed, pretraining_space, None, cfg.CONFIG, cfg.PRETRAINING]\n",
    "Objective = getattr(import_module(cfg.PRETRAINING.OBJECTIVE_MODULE), cfg.PRETRAINING.OBJECTIVE_NAME)\n",
    "objective = Objective(*args)\n",
    "trials = Trials()\n",
    "#run the optimization\n",
    "best = fmin(\n",
    "            objective,\n",
    "            space=NO_PARAM_SPACE, trials=trials,\n",
    "            algo=suggest, max_evals=1,\n",
    "            )"
   ]
  },
  {
   "cell_type": "markdown",
   "id": "c5d120a2",
   "metadata": {},
   "source": [
    "**Extracting latent representations using the pretrained model**"
   ]
  },
  {
   "cell_type": "code",
   "execution_count": null,
   "id": "03ec77af",
   "metadata": {},
   "outputs": [],
   "source": [
    "args = [seed, pretraining_space, readout_space, cfg.CONFIG, cfg.PRETRAINING,  cfg.EXTRACTION]\n",
    "Objective = getattr(import_module(cfg.EXTRACTION.OBJECTIVE_MODULE), cfg.EXTRACTION.OBJECTIVE_NAME)\n",
    "objective = Objective(*args)\n",
    "trials = Trials()\n",
    "#run the optimization\n",
    "best = fmin(\n",
    "            objective,\n",
    "            space=NO_PARAM_SPACE, trials=trials,\n",
    "            algo=suggest, max_evals=1,\n",
    "            )"
   ]
  },
  {
   "cell_type": "markdown",
   "id": "0a034856",
   "metadata": {},
   "source": [
    "**Train and test OCP readout model**"
   ]
  },
  {
   "cell_type": "code",
   "execution_count": null,
   "id": "4416f1b9",
   "metadata": {},
   "outputs": [],
   "source": [
    "args = [seed, pretraining_space, readout_space, cfg.CONFIG, cfg.PRETRAINING, cfg.EXTRACTION, cfg.READOUT]\n",
    "Objective = getattr(import_module(cfg.READOUT.OBJECTIVE_MODULE), cfg.READOUT.OBJECTIVE_NAME)\n",
    "objective = Objective(*args)\n",
    "trials = Trials()\n",
    "#run the optimization\n",
    "best = fmin(\n",
    "            objective,\n",
    "            space=NO_PARAM_SPACE, trials=trials,\n",
    "            algo=suggest, max_evals=1,\n",
    "            )"
   ]
  }
 ],
 "metadata": {
  "kernelspec": {
   "display_name": "testpy3_home",
   "language": "python",
   "name": "testpy3_home"
  },
  "language_info": {
   "codemirror_mode": {
    "name": "ipython",
    "version": 3
   },
   "file_extension": ".py",
   "mimetype": "text/x-python",
   "name": "python",
   "nbconvert_exporter": "python",
   "pygments_lexer": "ipython3",
   "version": "3.7.5"
  }
 },
 "nbformat": 4,
 "nbformat_minor": 5
}
